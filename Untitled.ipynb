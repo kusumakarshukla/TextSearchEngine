{
 "cells": [
  {
   "cell_type": "markdown",
   "metadata": {},
   "source": [
    "# Regex Examples"
   ]
  },
  {
   "cell_type": "code",
   "execution_count": 3,
   "metadata": {},
   "outputs": [],
   "source": [
    "import re"
   ]
  },
  {
   "cell_type": "code",
   "execution_count": 54,
   "metadata": {},
   "outputs": [],
   "source": [
    "pattern_ignore_case=re.compile(\"[a-z]*\",re.I)   #re.I is used to ignore the case"
   ]
  },
  {
   "cell_type": "code",
   "execution_count": 55,
   "metadata": {},
   "outputs": [
    {
     "data": {
      "text/plain": [
       "['Hello', '', 'kusumakar', '', 'how', '', 'are', '', 'you', '']"
      ]
     },
     "execution_count": 55,
     "metadata": {},
     "output_type": "execute_result"
    }
   ],
   "source": [
    "pattern_ignore_case.findall(\"Hello kusumakar how are you\")"
   ]
  },
  {
   "cell_type": "markdown",
   "metadata": {},
   "source": [
    "## Ignoring new lines"
   ]
  },
  {
   "cell_type": "code",
   "execution_count": 56,
   "metadata": {},
   "outputs": [],
   "source": [
    "pattern_ignore_new_line = re.compile(\"[a-z]+\",re.S)"
   ]
  },
  {
   "cell_type": "code",
   "execution_count": 58,
   "metadata": {},
   "outputs": [
    {
     "data": {
      "text/plain": [
       "['hello', 'kusumakar', 'whats', 'up']"
      ]
     },
     "execution_count": 58,
     "metadata": {},
     "output_type": "execute_result"
    }
   ],
   "source": [
    "pattern_ignore_new_line.findall(\"hello kusumakar  whats up\")"
   ]
  },
  {
   "cell_type": "markdown",
   "metadata": {},
   "source": [
    "## Date Logic"
   ]
  },
  {
   "cell_type": "code",
   "execution_count": 42,
   "metadata": {},
   "outputs": [],
   "source": [
    "pattern_date = re.compile(\"\\w+\\W\\w+\\W\\w+\\s*\")"
   ]
  },
  {
   "cell_type": "code",
   "execution_count": 43,
   "metadata": {},
   "outputs": [
    {
     "data": {
      "text/plain": [
       "['2020-20-12 ', '20/20/2020 ']"
      ]
     },
     "execution_count": 43,
     "metadata": {},
     "output_type": "execute_result"
    }
   ],
   "source": [
    "pattern_date.findall(\"2020-20-12 20/20/2020 \")"
   ]
  },
  {
   "cell_type": "markdown",
   "metadata": {},
   "source": [
    "## re.DOTALL or re.S\n",
    "### (Dot.) In the default mode, this matches any character except a newline. If the DOTALL flag has been specified, this matches any character including a newline."
   ]
  },
  {
   "cell_type": "markdown",
   "metadata": {},
   "source": [
    "## re.LOCALE or re.L\n",
    "### re.LOCALE to make \\w match all characters that are considered letters given the current locale settings"
   ]
  },
  {
   "cell_type": "code",
   "execution_count": 72,
   "metadata": {},
   "outputs": [],
   "source": [
    "patter_locale=re.compile(\"\\w*\")"
   ]
  },
  {
   "cell_type": "code",
   "execution_count": 75,
   "metadata": {},
   "outputs": [
    {
     "data": {
      "text/plain": [
       "['o', '', 'kusumakar', '', 'how', '', 'are', '', 'you', '']"
      ]
     },
     "execution_count": 75,
     "metadata": {},
     "output_type": "execute_result"
    }
   ],
   "source": [
    "patter_locale.findall(\"hello kusumakar how are you\",re.LOCALE)"
   ]
  },
  {
   "cell_type": "markdown",
   "metadata": {},
   "source": [
    "# re.Verbose\n",
    "##  This flag allows you to write regular expressions that look nicer and are more readable by allowing you to visually separate logical sections of the pattern and add comments."
   ]
  },
  {
   "cell_type": "code",
   "execution_count": 165,
   "metadata": {},
   "outputs": [],
   "source": [
    "verbose_pattern = re.compile(\"\"\"\n",
    "[A|The]+[\\w\\s]+\n",
    "\\.\n",
    "\n",
    "\"\"\",re.VERBOSE|re.IGNORECASE|re.S)"
   ]
  },
  {
   "cell_type": "code",
   "execution_count": 166,
   "metadata": {},
   "outputs": [
    {
     "data": {
      "text/plain": [
       "['A cat that was running.', 'That cat has fallen into the river.']"
      ]
     },
     "execution_count": 166,
     "metadata": {},
     "output_type": "execute_result"
    }
   ],
   "source": [
    "verbose_pattern.findall(\"A cat that was running.That cat has fallen into the river.\")"
   ]
  },
  {
   "cell_type": "markdown",
   "metadata": {},
   "source": [
    "# Grouping\n",
    "\n",
    "## Grouping is a powerful operation that allows operations such as :\n",
    "- Creating sub expressions to apply quantifiers\n",
    "- Limiting the scope of alternation\n",
    "- Extracting information from the matched text\n",
    "- Using extracted information in the regex"
   ]
  },
  {
   "cell_type": "markdown",
   "metadata": {},
   "source": [
    "### Grouping is achieved by the using ( ). Pattern written inside ( ) is treated as 1 unit."
   ]
  },
  {
   "cell_type": "markdown",
   "metadata": {},
   "source": [
    "#### i.  Regular expression for ababababc"
   ]
  },
  {
   "cell_type": "code",
   "execution_count": 173,
   "metadata": {},
   "outputs": [],
   "source": [
    "pattern1=re.compile(\"(ab)+c\")"
   ]
  },
  {
   "cell_type": "code",
   "execution_count": 176,
   "metadata": {},
   "outputs": [
    {
     "data": {
      "text/plain": [
       "<re.Match object; span=(0, 11), match='abababababc'>"
      ]
     },
     "execution_count": 176,
     "metadata": {},
     "output_type": "execute_result"
    }
   ],
   "source": [
    "pattern1.search(\"abababababc\")"
   ]
  },
  {
   "cell_type": "markdown",
   "metadata": {},
   "source": [
    "## Capturing\n",
    "### Another important feature in grouping. Groups capture the matched pattern which helps in using in other operations such as sub or in regex itself."
   ]
  },
  {
   "cell_type": "code",
   "execution_count": 210,
   "metadata": {},
   "outputs": [],
   "source": [
    "pattern1=re.compile(r\"(ab)+(cd)+(ef)+\")"
   ]
  },
  {
   "cell_type": "code",
   "execution_count": 211,
   "metadata": {},
   "outputs": [],
   "source": [
    "it=pattern1.finditer(r\"ababcdefefef\")"
   ]
  },
  {
   "cell_type": "code",
   "execution_count": 213,
   "metadata": {},
   "outputs": [],
   "source": [
    "groups=next(it)"
   ]
  },
  {
   "cell_type": "code",
   "execution_count": 217,
   "metadata": {},
   "outputs": [
    {
     "name": "stdout",
     "output_type": "stream",
     "text": [
      "ab cd ef\n"
     ]
    }
   ],
   "source": [
    "print ( groups.group(1), groups.group(2), groups.group(3))"
   ]
  },
  {
   "cell_type": "markdown",
   "metadata": {},
   "source": [
    "# Named groups\n",
    "## Syntax : (?P < name > pattern)"
   ]
  },
  {
   "cell_type": "code",
   "execution_count": 386,
   "metadata": {},
   "outputs": [],
   "source": [
    "patter=re.compile(\"(?P<first>\\w+)-(?P<second>\\w+)\")"
   ]
  },
  {
   "cell_type": "code",
   "execution_count": 387,
   "metadata": {},
   "outputs": [],
   "source": [
    "match=patter.search(\"hello-world\")"
   ]
  },
  {
   "cell_type": "code",
   "execution_count": 388,
   "metadata": {},
   "outputs": [
    {
     "data": {
      "text/plain": [
       "'hello'"
      ]
     },
     "execution_count": 388,
     "metadata": {},
     "output_type": "execute_result"
    }
   ],
   "source": [
    "match.group('first')"
   ]
  },
  {
   "cell_type": "code",
   "execution_count": 389,
   "metadata": {},
   "outputs": [
    {
     "data": {
      "text/plain": [
       "'world'"
      ]
     },
     "execution_count": 389,
     "metadata": {},
     "output_type": "execute_result"
    }
   ],
   "source": [
    "match.group('second')"
   ]
  },
  {
   "cell_type": "code",
   "execution_count": 420,
   "metadata": {},
   "outputs": [],
   "source": [
    "logfile = \"VolDis_log_23-10-2020.log\""
   ]
  },
  {
   "cell_type": "code",
   "execution_count": 428,
   "metadata": {},
   "outputs": [],
   "source": [
    "patt= re.compile(\"(?P<file>\\w+_+\\w+)_(?P<date>\\d+\\W+\\d+\\W+\\d+).log\")"
   ]
  },
  {
   "cell_type": "code",
   "execution_count": 429,
   "metadata": {},
   "outputs": [],
   "source": [
    "match=patt.search(logfile)"
   ]
  },
  {
   "cell_type": "code",
   "execution_count": 430,
   "metadata": {},
   "outputs": [
    {
     "data": {
      "text/plain": [
       "'VolDis_log'"
      ]
     },
     "execution_count": 430,
     "metadata": {},
     "output_type": "execute_result"
    }
   ],
   "source": [
    "match.group('file')"
   ]
  },
  {
   "cell_type": "code",
   "execution_count": 431,
   "metadata": {},
   "outputs": [
    {
     "data": {
      "text/plain": [
       "'23-10-2020'"
      ]
     },
     "execution_count": 431,
     "metadata": {},
     "output_type": "execute_result"
    }
   ],
   "source": [
    "match.group('date')"
   ]
  },
  {
   "cell_type": "code",
   "execution_count": 434,
   "metadata": {},
   "outputs": [],
   "source": [
    "new_file= \"Voldis_log_24-10-2020.log\""
   ]
  },
  {
   "cell_type": "code",
   "execution_count": 437,
   "metadata": {},
   "outputs": [
    {
     "data": {
      "text/plain": [
       "'24-10-2020-Voldis_log'"
      ]
     },
     "execution_count": 437,
     "metadata": {},
     "output_type": "execute_result"
    }
   ],
   "source": [
    "patt.sub(\"\\g<date>-\\g<file>\",new_file)"
   ]
  },
  {
   "cell_type": "markdown",
   "metadata": {},
   "source": [
    "# Atomic Groups\n",
    "## These are special groups in regex module. They are designed to improve performance because when regex engine fails to match, it doesnt keep trying with every character in the data"
   ]
  },
  {
   "cell_type": "markdown",
   "metadata": {},
   "source": [
    "## Zero width assertions:\n",
    "#### Metacharacters that indicate position rather than actual content. Example : ^ or dollar\n",
    "#### Look around assertion : These are powerful assertions that match a certain previous or ulterior value to the current position. They effectively do assertion without consuming characters, and just return a positive or a negative result of the match.\n",
    "\n",
    "### Positive Look Ahead: \n",
    "#### This mechanism is represented as an expression preceded by a question mark and an equal to sign. ?= inside the parenthesis. For example , a passed (?=) will match if the passed regex do match the forthcoming input.\n",
    "\n",
    "### Negative Look Ahead:\n",
    "#### Preceded by ?!  . It will match if the passed regex doesnt against the forthcoming input.\n",
    "\n",
    "### Positive Look Behind\n",
    "#### Preceded by a ?<= . It will match if the passed regex do match against the previous input\n",
    "\n",
    "\n",
    "### Negative Look behind\n",
    "#### ?<!  It will match if the passed regex do not match agains the previous input"
   ]
  },
  {
   "cell_type": "markdown",
   "metadata": {},
   "source": [
    "# Examples:\n"
   ]
  },
  {
   "cell_type": "code",
   "execution_count": 12,
   "metadata": {},
   "outputs": [
    {
     "name": "stdout",
     "output_type": "stream",
     "text": [
      "With look ahead mechanism  <re.Match object; span=(2, 2), match=''>\n",
      "Without look ahead mechanism  <re.Match object; span=(2, 5), match='fox'>\n"
     ]
    }
   ],
   "source": [
    "# Wth look ahead mechanism\n",
    "pattern = re.compile(\"(?=fox)\")\n",
    "position = pattern.search (\"A fox sat on the wall\")\n",
    "print(\"With look ahead mechanism \",position)\n",
    "pattern = re.compile(\"fox\")\n",
    "position = pattern.search (\"A fox sat on the wall\")\n",
    "print(\"Without look ahead mechanism \",position)\n",
    "\n",
    "# Conclusion - > Look around does not consume characters so it can be used to filter where the expression should match."
   ]
  },
  {
   "cell_type": "markdown",
   "metadata": {},
   "source": [
    "## Using Positive Look Ahead approach to find out comma seperated words"
   ]
  },
  {
   "cell_type": "code",
   "execution_count": 21,
   "metadata": {},
   "outputs": [
    {
     "name": "stdout",
     "output_type": "stream",
     "text": [
      "With look ahead approach  ['noodles', 'pakodas']\n",
      "Without look ahead approach  ['noodles,', 'pakodas,']\n"
     ]
    }
   ],
   "source": [
    "pattern = re.compile (\"\\w+(?=,)\")\n",
    "positions = pattern.findall (\"I ate noodles,pakodas,maggi and tea\")\n",
    "print(\"With look ahead approach \",positions)\n",
    "pattern = re.compile (\"\\w+,\")\n",
    "positions = pattern.findall (\"I ate noodles,pakodas,maggi and tea\")\n",
    "print(\"Without look ahead approach \",positions)\n",
    "\n",
    "# Conclusion -> Look around does not include , as a part of the result where as the other one matches both the words + ,"
   ]
  },
  {
   "cell_type": "markdown",
   "metadata": {},
   "source": [
    "## Negative Look ahead Examples:\n"
   ]
  },
  {
   "cell_type": "code",
   "execution_count": 40,
   "metadata": {},
   "outputs": [
    {
     "name": "stdout",
     "output_type": "stream",
     "text": [
      "With look ahead approach  ['John']\n",
      "Without look ahead approach  []\n"
     ]
    }
   ],
   "source": [
    "pattern = re.compile (\"John(?!\\sSmith)\")\n",
    "positions = pattern.findall (\"I went with John Cena not with John Smith\")\n",
    "print(\"With look ahead approach \",positions)\n",
    "pattern = re.compile (\"\\w+,\")\n",
    "positions = pattern.findall (\"I ate noodles , pakodas , maggi and tea\")\n",
    "print(\"Without look ahead approach \",positions) "
   ]
  },
  {
   "cell_type": "markdown",
   "metadata": {},
   "source": [
    "## Converting a number to a , based number i.e 123456789  as 123,456,789"
   ]
  },
  {
   "cell_type": "code",
   "execution_count": 82,
   "metadata": {},
   "outputs": [],
   "source": [
    "pattern= re.compile('\\d{1,3}(?=(\\d{3})+(?!\\d))')"
   ]
  },
  {
   "cell_type": "code",
   "execution_count": 83,
   "metadata": {},
   "outputs": [],
   "source": [
    "result=pattern.finditer('12345678901')\n"
   ]
  },
  {
   "cell_type": "code",
   "execution_count": 84,
   "metadata": {},
   "outputs": [
    {
     "name": "stdout",
     "output_type": "stream",
     "text": [
      "0 2\n",
      "2 5\n",
      "5 8\n"
     ]
    }
   ],
   "source": [
    "string=\"12345678901\"\n",
    "for i in result:\n",
    "    print(i.start(),i.end())"
   ]
  },
  {
   "cell_type": "code",
   "execution_count": 86,
   "metadata": {},
   "outputs": [
    {
     "data": {
      "text/plain": [
       "'12,345,678,901'"
      ]
     },
     "execution_count": 86,
     "metadata": {},
     "output_type": "execute_result"
    }
   ],
   "source": [
    "pattern.sub(\"\\g<0>,\",'12345678901')"
   ]
  },
  {
   "cell_type": "markdown",
   "metadata": {},
   "source": [
    "# Matching twitter usernames @kusumakar_shukla"
   ]
  },
  {
   "cell_type": "code",
   "execution_count": 103,
   "metadata": {},
   "outputs": [],
   "source": [
    "pattern= re.compile(\"(?<=@)[\\w+]+\")"
   ]
  },
  {
   "cell_type": "code",
   "execution_count": 105,
   "metadata": {},
   "outputs": [
    {
     "data": {
      "text/plain": [
       "['kusumakar_00_012_shukla']"
      ]
     },
     "execution_count": 105,
     "metadata": {},
     "output_type": "execute_result"
    }
   ],
   "source": [
    "pattern.findall(\" my username is @kusumakar_00_012_shukla\")"
   ]
  },
  {
   "cell_type": "markdown",
   "metadata": {},
   "source": [
    "# Remember: look around mechanisms only match for fixed width patterns."
   ]
  },
  {
   "cell_type": "markdown",
   "metadata": {},
   "source": [
    "## Q. Taking those sentences which don't have error in them .that is , discard ERROR-"
   ]
  },
  {
   "cell_type": "code",
   "execution_count": 106,
   "metadata": {},
   "outputs": [],
   "source": [
    "#Logformat = dd-mm-yyyy:ERROR : Authentication failed "
   ]
  },
  {
   "cell_type": "code",
   "execution_count": 181,
   "metadata": {},
   "outputs": [],
   "source": [
    "pattern = re.compile(\"\\d{2}-\\d{2}-\\d{4}:(.*)(?<!ERROR):(.*)\")"
   ]
  },
  {
   "cell_type": "code",
   "execution_count": 182,
   "metadata": {},
   "outputs": [
    {
     "data": {
      "text/plain": [
       "[]"
      ]
     },
     "execution_count": 182,
     "metadata": {},
     "output_type": "execute_result"
    }
   ],
   "source": [
    "pattern.findall(\"10-10-2020:ERROR:Failed to login\")"
   ]
  },
  {
   "cell_type": "code",
   "execution_count": 183,
   "metadata": {},
   "outputs": [
    {
     "data": {
      "text/plain": [
       "[('INFO', 'Data Downloaded')]"
      ]
     },
     "execution_count": 183,
     "metadata": {},
     "output_type": "execute_result"
    }
   ],
   "source": [
    "pattern.findall(\"10-10-2020:INFO:Data Downloaded\")"
   ]
  },
  {
   "cell_type": "code",
   "execution_count": null,
   "metadata": {},
   "outputs": [],
   "source": []
  }
 ],
 "metadata": {
  "kernelspec": {
   "display_name": "Python 3",
   "language": "python",
   "name": "python3"
  },
  "language_info": {
   "codemirror_mode": {
    "name": "ipython",
    "version": 3
   },
   "file_extension": ".py",
   "mimetype": "text/x-python",
   "name": "python",
   "nbconvert_exporter": "python",
   "pygments_lexer": "ipython3",
   "version": "3.7.5"
  }
 },
 "nbformat": 4,
 "nbformat_minor": 2
}
